{
 "cells": [
  {
   "cell_type": "code",
   "execution_count": null,
   "id": "991ffe2f",
   "metadata": {},
   "outputs": [],
   "source": [
    "import random\n",
    "\n",
    "def magic():\n",
    "    magic_8 = [\n",
    "'It is certain.',\n",
    "'It is decidedly so.',\n",
    "'Without a doubt.',\n",
    "'Yes definitely.',\n",
    "'You may rely on it.',\n",
    "'As I see it, yes.',\n",
    "'Most likely.',\n",
    "'Outlook good.',\n",
    "'Yes.',\n",
    "'Signs point to yes.',\n",
    "'Reply hazy, try again.',\n",
    "'Ask again later.',\n",
    "'Better not tell you now.',\n",
    "'Cannot predict now.',\n",
    "'Concentrate and ask again.',\n",
    "'Don\\'t count on it.',\n",
    "'My reply is no.',\n",
    "'My sources say no.',\n",
    "'Outlook not so good.',\n",
    "'Very doubtful.'        \n",
    "]\n",
    "    return random.choice(magic_8)\n",
    "\n",
    "while True: \n",
    "    question = input(\"What is the question you seek?: \")\n",
    "    print(magic())\n",
    "    \n",
    "    again = input(\"Ask another question? Y/N: \").upper()\n",
    "    if again != \"Y\" and len(again) > 1:\n",
    "        again = input(\"Can only reply 'Y' for yes or 'N' for no. Ask another question? Y/N: \").upper()\n",
    "    if again == \"N\":\n",
    "        print(\"May your fortune bring peace\")\n",
    "        break"
   ]
  }
 ],
 "metadata": {
  "kernelspec": {
   "display_name": "Python 3 (ipykernel)",
   "language": "python",
   "name": "python3"
  },
  "language_info": {
   "codemirror_mode": {
    "name": "ipython",
    "version": 3
   },
   "file_extension": ".py",
   "mimetype": "text/x-python",
   "name": "python",
   "nbconvert_exporter": "python",
   "pygments_lexer": "ipython3",
   "version": "3.10.4"
  }
 },
 "nbformat": 4,
 "nbformat_minor": 5
}
